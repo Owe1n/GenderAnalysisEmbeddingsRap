{
 "cells": [
  {
   "cell_type": "code",
   "execution_count": 1,
   "metadata": {},
   "outputs": [],
   "source": [
    "from bs4 import BeautifulSoup "
   ]
  },
  {
   "attachments": {},
   "cell_type": "markdown",
   "metadata": {},
   "source": [
    "## Purpose of the preprocessing\n",
    "After the scrapping of the Hot Rap 100 since 1989 from the website https://www.billboard.com/charts/rap-song/1989-03-18/#, and the generation of the association (artist - number of apparition in the billboard) it appears that because of the scrapping method used, some association are representing the collaboration between two artist and the number of time they were present together in the billboard. "
   ]
  },
  {
   "attachments": {},
   "cell_type": "markdown",
   "metadata": {},
   "source": [
    "For instance in the file ```rappers_billboard_apparition_1989_1990.txt``` we can see on the line 4 that the artist name is ``` Heavy D & The Boyz ``` wich is actually a collaboration. To spot all the collaboration in all the file, I reviewed all the way for the website billboard.com to symbolise a collaboration between different artists. Either names are separated by the character & or by the keyword \"featuring\". \n",
    " "
   ]
  },
  {
   "attachments": {},
   "cell_type": "markdown",
   "metadata": {},
   "source": [
    "I choose to apply the given strategy : do not take in consideration the featurings. "
   ]
  },
  {
   "cell_type": "code",
   "execution_count": 20,
   "metadata": {},
   "outputs": [
    {
     "name": "stdout",
     "output_type": "stream",
     "text": [
      "{'m.c. hammer': 60, 'de la soul': 51, 'the 2 live crew': 47, 'heavy d & the boyz': 44, 'big daddy kane': 42, 'slick rick': 41, 'young m.c.': 41, 'boogie down productions': 36, 'n.w.a': 36, 'public enemy': 36, 'tone-loc': 35, 'kwame': 34, \"kid 'n play\": 32, 'three times dope': 32, 'kool moe dee': 32, 'the d.o.c.': 32, 'wreckx-n-effect': 32, 'sir mix-a-lot': 30, 'redhead kingpin & the f.b.i.': 29, 'll cool j': 28, 'too $hort': 27, 'mc lyte': 26, 'the stop the violence movement': 25, 'rob base & d.j. e-z rock': 23, 'epmd': 20, 'biz markie': 20, 'eazy-e': 19, 'the jungle bros.': 19, '3rd bass': 19, 'doug e. fresh & the get fresh crew': 18, \"oaktown's 3.5.7\": 18, 'special ed': 18, 'ice-t': 17, 'k-9 posse': 17, 'salt-n-pepa': 17, 'tuff crew': 17, 'd.j. chuck chillout and kool chip': 16, 'danny \"d\" & d.j. \"wiz\"': 16, 'breeze': 16, 'king tee': 15, 'rodney o & joe cooley': 15, 'queen latifah': 15, 'gucci crew ii': 14, 'rob base': 14, 'milli vanilli': 13, 'mellow man ace': 13, 'the young and the restless': 13, 'kool g rap & d.j. polo': 12, 'chubb rock with howie tee': 12, 'cool c': 12, 'awesome dre & the hard core committee': 12, 'grandmaster slice & izzy chill': 12, 'mamado & she': 11, 'run-d.m.c.': 11, 'donald-d': 11, 'arabian prince': 11, 'serious-lee-fine': 11, 'e.u.': 10, 'the jaz': 10, 'stezo': 10, 'antoinette': 10, 'twin hype': 10, 'd.j. jazzy jeff & the fresh prince': 10, 'cash money & marvelous': 9, 'high performance': 9, 'steady b': 9, 'bobcat': 8, 'beastie boys': 8, 'queen latifah featuring monie love': 8, 'mr. lee': 8, \"stetsasonic featuring force m.d.'s\": 7, 'ice cream tee': 7, 'uzi$ bros': 7, 'body & soul': 7, \"black rock 'n' ron\": 7, 'chubb rock': 7, 'digital underground': 7, 't-ski': 7, 'eric b. & rakim': 5, 'marley marl': 5, 'black by demand': 5, 'ms. melodie': 5, 'divine styler feat. the scheme team': 5, 'def dames': 5, 'def jef': 4, 'joyce \"fenderella\" irby': 4, 'neneh cherry': 4, 'chunky a': 4, 'gang starr': 4, 'low profile': 4, 'sweet tee': 3, 'tyree featuring kool rock steady': 3, 'roxanne shante': 3, 'bobby jimmy & the critters': 3, 'maestro fresh-wes': 2, 'vicious beat posse': 2}\n"
     ]
    }
   ],
   "source": [
    "#Import each files\n",
    "with open('./Result/rappers_billboard_apparition_1989_1990.txt', 'r') as file:\n",
    "  \n",
    "  # Create an empty dictionary\n",
    "  rappers = {}\n",
    "  \n",
    "  # Iterate over each line in the file\n",
    "  for line in file:\n",
    "    # Split the line using the separator \"-\"\n",
    "    result = line.rsplit(\"-\", 1)\n",
    "    # Add the key-value pair to the dictionary\n",
    "    rappers[result[0].replace(\"(\", \"\").replace(\")\", \"\").lower()] = int(result[1].strip())"
   ]
  },
  {
   "attachments": {},
   "cell_type": "markdown",
   "metadata": {},
   "source": [
    "this following piece of code try to take in consideratio the featurings but shows a drawwback: some artist name could cointains the caracter & for instance. "
   ]
  },
  {
   "cell_type": "code",
   "execution_count": 19,
   "metadata": {},
   "outputs": [
    {
     "name": "stdout",
     "output_type": "stream",
     "text": [
      "[('m.c. hammer', 61), ('de la soul', 52), ('the 2 live crew', 48), ('big daddy kane', 43), ('slick rick', 42), ('young m.c.', 42), ('boogie down productions', 37), ('n.w.a', 37), ('public enemy', 37), ('tone-loc', 36), ('kwame', 35), (\"kid 'n play\", 33), ('three times dope', 33), ('kool moe dee', 33), ('the d.o.c.', 33), ('wreckx-n-effect', 33), ('sir mix-a-lot', 31), ('ll cool j', 29), ('too $hort', 28), ('mc lyte', 27), ('the stop the violence movement', 26), ('epmd', 21), ('biz markie', 21), ('eazy-e', 20), ('the jungle bros.', 20), ('3rd bass', 20), (\"oaktown's 3.5.7\", 19), ('special ed', 19), ('ice-t', 18), ('k-9 posse', 18), ('salt-n-pepa', 18), ('tuff crew', 18), ('d.j. chuck chillout and kool chip', 17), ('breeze', 17), ('king tee', 16), ('queen latifah', 16), ('gucci crew ii', 15), ('rob base', 15), ('milli vanilli', 14), ('mellow man ace', 14), ('the young and the restless', 14), ('chubb rock with howie tee', 13), ('cool c', 13), ('run-d.m.c.', 12), ('donald-d', 12), ('arabian prince', 12), ('serious-lee-fine', 12), ('e.u.', 11), ('the jaz', 11), ('stezo', 11), ('antoinette', 11), ('twin hype', 11), ('high performance', 10), ('steady b', 10), ('bobcat', 9), ('beastie boys', 9), ('mr. lee', 9), ('ice cream tee', 8), ('uzi$ bros', 8), (\"black rock 'n' ron\", 8), ('chubb rock', 8), ('digital underground', 8), ('t-ski', 8), ('marley marl', 6), ('black by demand', 6), ('ms. melodie', 6), ('def dames', 6), ('def jef', 5), ('joyce \"fenderella\" irby', 5), ('neneh cherry', 5), ('chunky a', 5), ('gang starr', 5), ('low profile', 5), ('sweet tee', 4), ('roxanne shante', 4), ('maestro fresh-wes', 3), ('vicious beat posse', 3), ('heavy d ', 1), (' the boyz', 1), ('redhead kingpin ', 1), (' the f.b.i.', 1), ('rob base ', 1), (' d.j. e-z rock', 1), ('doug e. fresh ', 1), (' the get fresh crew', 1), ('danny \"d\" ', 1), (' d.j. \"wiz\"', 1), ('rodney o ', 1), (' joe cooley', 1), ('kool g rap ', 1), (' d.j. polo', 1), ('awesome dre ', 1), (' the hard core committee', 1), ('grandmaster slice ', 1), (' izzy chill', 1), ('mamado ', 1), (' she', 1), ('d.j. jazzy jeff ', 1), (' the fresh prince', 1), ('cash money ', 1), (' marvelous', 1), ('queen latifah ', 1), (' monie love', 1), ('stetsasonic ', 1), (\" force m.d.'s\", 1), ('body ', 1), (' soul', 1), ('eric b. ', 1), (' rakim', 1), ('divine styler ', 1), (' the scheme team', 1), ('tyree ', 1), (' kool rock steady', 1), ('bobby jimmy ', 1), (' the critters', 1)]\n"
     ]
    }
   ],
   "source": [
    "# Go through all the keys in the dictionary // Take the fearuring in consideration\n",
    "import re\n",
    "rappers_c = rappers.copy()\n",
    "new_rappers = {}\n",
    "\n",
    "collab_pattern = re.compile(r'&|featuring|feat\\.')\n",
    "\n",
    "for key in rappers_c.keys():\n",
    "  artists = re.split(collab_pattern, key)\n",
    "  for artist in artists:\n",
    "    new_rappers[artist] = rappers_c.get(artist, 0) + 1\n",
    "new_rappers = sorted(new_rappers.items(), key=lambda x: x[1], reverse=True)       \n",
    "print(new_rappers)\n",
    "\n"
   ]
  },
  {
   "attachments": {},
   "cell_type": "markdown",
   "metadata": {},
   "source": [
    "this one just filter the first dictionnary to skip up all the featurings "
   ]
  },
  {
   "cell_type": "code",
   "execution_count": 33,
   "metadata": {},
   "outputs": [
    {
     "name": "stdout",
     "output_type": "stream",
     "text": [
      "{'m.c. hammer': 60, 'de la soul': 51, 'the 2 live crew': 47, 'big daddy kane': 42, 'slick rick': 41, 'young m.c.': 41, 'boogie down productions': 36, 'n.w.a': 36, 'public enemy': 36, 'tone-loc': 35, 'kwame': 34, \"kid 'n play\": 32, 'three times dope': 32, 'kool moe dee': 32, 'the d.o.c.': 32, 'wreckx-n-effect': 32, 'sir mix-a-lot': 30, 'll cool j': 28, 'too $hort': 27, 'mc lyte': 26, 'the stop the violence movement': 25, 'epmd': 20, 'biz markie': 20, 'eazy-e': 19, 'the jungle bros.': 19, '3rd bass': 19, \"oaktown's 3.5.7\": 18, 'special ed': 18, 'ice-t': 17, 'k-9 posse': 17, 'salt-n-pepa': 17, 'tuff crew': 17, 'd.j. chuck chillout and kool chip': 16, 'breeze': 16, 'king tee': 15, 'queen latifah': 15, 'gucci crew ii': 14, 'rob base': 14, 'milli vanilli': 13, 'mellow man ace': 13, 'the young and the restless': 13, 'chubb rock with howie tee': 12, 'cool c': 12, 'run-d.m.c.': 11, 'donald-d': 11, 'arabian prince': 11, 'serious-lee-fine': 11, 'e.u.': 10, 'the jaz': 10, 'stezo': 10, 'antoinette': 10, 'twin hype': 10, 'high performance': 9, 'steady b': 9, 'bobcat': 8, 'beastie boys': 8, 'mr. lee': 8, 'ice cream tee': 7, 'uzi$ bros': 7, \"black rock 'n' ron\": 7, 'chubb rock': 7, 'digital underground': 7, 't-ski': 7, 'marley marl': 5, 'black by demand': 5, 'ms. melodie': 5, 'def dames': 5, 'def jef': 4, 'joyce \"fenderella\" irby': 4, 'neneh cherry': 4, 'chunky a': 4, 'gang starr': 4, 'low profile': 4, 'sweet tee': 3, 'roxanne shante': 3, 'maestro fresh-wes': 2, 'vicious beat posse': 2}\n"
     ]
    }
   ],
   "source": [
    "import re\n",
    "rappers_c = rappers.copy()\n",
    "new_rappers = {}\n",
    "\n",
    "collab_pattern = re.compile(r'&|featuring|feat\\.')\n",
    "for key in rappers_c.keys():\n",
    "    if not('&' in key or 'featuring' in key or 'feat.' in key):\n",
    "        new_rappers[key] = rappers_c[key]\n",
    "        \n",
    "print(new_rappers)"
   ]
  },
  {
   "attachments": {},
   "cell_type": "markdown",
   "metadata": {},
   "source": [
    "Then we rewrite a new file"
   ]
  },
  {
   "cell_type": "code",
   "execution_count": 36,
   "metadata": {},
   "outputs": [
    {
     "name": "stdout",
     "output_type": "stream",
     "text": [
      "m.c. hammer 60\n",
      "de la soul 51\n",
      "the 2 live crew 47\n",
      "big daddy kane 42\n",
      "slick rick 41\n",
      "young m.c. 41\n",
      "boogie down productions 36\n",
      "n.w.a 36\n",
      "public enemy 36\n",
      "tone-loc 35\n",
      "kwame 34\n",
      "kid 'n play 32\n",
      "three times dope 32\n",
      "kool moe dee 32\n",
      "the d.o.c. 32\n",
      "wreckx-n-effect 32\n",
      "sir mix-a-lot 30\n",
      "ll cool j 28\n",
      "too $hort 27\n",
      "mc lyte 26\n",
      "the stop the violence movement 25\n",
      "epmd 20\n",
      "biz markie 20\n",
      "eazy-e 19\n",
      "the jungle bros. 19\n",
      "3rd bass 19\n",
      "oaktown's 3.5.7 18\n",
      "special ed 18\n",
      "ice-t 17\n",
      "k-9 posse 17\n",
      "salt-n-pepa 17\n",
      "tuff crew 17\n",
      "d.j. chuck chillout and kool chip 16\n",
      "breeze 16\n",
      "king tee 15\n",
      "queen latifah 15\n",
      "gucci crew ii 14\n",
      "rob base 14\n",
      "milli vanilli 13\n",
      "mellow man ace 13\n",
      "the young and the restless 13\n",
      "chubb rock with howie tee 12\n",
      "cool c 12\n",
      "run-d.m.c. 11\n",
      "donald-d 11\n",
      "arabian prince 11\n",
      "serious-lee-fine 11\n",
      "e.u. 10\n",
      "the jaz 10\n",
      "stezo 10\n",
      "antoinette 10\n",
      "twin hype 10\n",
      "high performance 9\n",
      "steady b 9\n",
      "bobcat 8\n",
      "beastie boys 8\n",
      "mr. lee 8\n",
      "ice cream tee 7\n",
      "uzi$ bros 7\n",
      "black rock 'n' ron 7\n",
      "chubb rock 7\n",
      "digital underground 7\n",
      "t-ski 7\n",
      "marley marl 5\n",
      "black by demand 5\n",
      "ms. melodie 5\n",
      "def dames 5\n",
      "def jef 4\n",
      "joyce \"fenderella\" irby 4\n",
      "neneh cherry 4\n",
      "chunky a 4\n",
      "gang starr 4\n",
      "low profile 4\n",
      "sweet tee 3\n",
      "roxanne shante 3\n",
      "maestro fresh-wes 2\n",
      "vicious beat posse 2\n"
     ]
    }
   ],
   "source": [
    "# filename = f\"rappers_billboard_apparition_{start_date.year}_{end_date.year}.txt\"\n",
    "import os\n",
    "dirname = \"test\"\n",
    "if not os.path.exists(dirname):\n",
    "    os.makedirs(dirname)\n",
    "f = open(os.path.join(dirname, 'test1.txt'), \"w\", encoding=\"utf-8\")\n",
    "# Write the key-value pairs to the file\n",
    "for rapper, value in new_rappers.items() :\n",
    "    f.write(f\"{rapper}-{value}\\n\")"
   ]
  },
  {
   "attachments": {},
   "cell_type": "markdown",
   "metadata": {},
   "source": [
    "Everething put together with the method of just ignoring all the featurings"
   ]
  },
  {
   "cell_type": "code",
   "execution_count": 37,
   "metadata": {},
   "outputs": [
    {
     "name": "stdout",
     "output_type": "stream",
     "text": [
      "rappers_billboard_apparition_1989_1990.txt\n",
      "{'m.c. hammer': 60, 'de la soul': 51, 'the 2 live crew': 47, 'big daddy kane': 42, 'slick rick': 41, 'young m.c.': 41, 'boogie down productions': 36, 'n.w.a': 36, 'public enemy': 36, 'tone-loc': 35, 'kwame': 34, \"kid 'n play\": 32, 'three times dope': 32, 'kool moe dee': 32, 'the d.o.c.': 32, 'wreckx-n-effect': 32, 'sir mix-a-lot': 30, 'll cool j': 28, 'too $hort': 27, 'mc lyte': 26, 'the stop the violence movement': 25, 'epmd': 20, 'biz markie': 20, 'eazy-e': 19, 'the jungle bros.': 19, '3rd bass': 19, \"oaktown's 3.5.7\": 18, 'special ed': 18, 'ice-t': 17, 'k-9 posse': 17, 'salt-n-pepa': 17, 'tuff crew': 17, 'd.j. chuck chillout and kool chip': 16, 'breeze': 16, 'king tee': 15, 'queen latifah': 15, 'gucci crew ii': 14, 'rob base': 14, 'milli vanilli': 13, 'mellow man ace': 13, 'the young and the restless': 13, 'chubb rock with howie tee': 12, 'cool c': 12, 'run-d.m.c.': 11, 'donald-d': 11, 'arabian prince': 11, 'serious-lee-fine': 11, 'e.u.': 10, 'the jaz': 10, 'stezo': 10, 'antoinette': 10, 'twin hype': 10, 'high performance': 9, 'steady b': 9, 'bobcat': 8, 'beastie boys': 8, 'mr. lee': 8, 'ice cream tee': 7, 'uzi$ bros': 7, \"black rock 'n' ron\": 7, 'chubb rock': 7, 'digital underground': 7, 't-ski': 7, 'marley marl': 5, 'black by demand': 5, 'ms. melodie': 5, 'def dames': 5, 'def jef': 4, 'joyce \"fenderella\" irby': 4, 'neneh cherry': 4, 'chunky a': 4, 'gang starr': 4, 'low profile': 4, 'sweet tee': 3, 'roxanne shante': 3, 'maestro fresh-wes': 2, 'vicious beat posse': 2}\n",
      "rappers_billboard_apparition_1990_1991.txt\n",
      "{'m.c. hammer': 63, 'll cool j': 55, 'public enemy': 42, 'a tribe called quest': 35, 'father m.c.': 33, 'snap!': 31, 'd-nice': 31, 'k-solo': 30, 'above the law': 28, 'candyman': 28, 'digital underground': 27, 'sir mix-a-lot': 27, 'vanilla ice': 26, \"kid 'n play\": 25, 'poor righteous teachers': 25, \"oaktown's 3.5.7\": 24, 'special ed': 24, 'kid sensation': 20, 'professor griff': 20, 'boogie down productions': 19, 'master ace': 19, 'salt-n-pepa': 18, 'big daddy kane': 18, 'mellow man ace': 18, 'too $hort': 18, \"compton's most wanted\": 17, 'the d.o.c.': 16, 'ice cube': 16, 'intelligent hoodlum': 16, 'n.w.a': 16, 'yo-yo': 16, 'the west coast rap all-stars': 15, 'monie love': 15, 'terminator x': 15, 'young and restless': 14, 'kid frost': 14, 'criminal nation': 14, 'the 2 live crew': 13, 'icey jaye': 13, 'cheba': 13, 'run-d.m.c.': 13, 'gang starr': 12, 'poison clan': 12, 'king tee': 12, 'bwp': 12, 'main source': 12, 'low profile': 11, 'm.c. shy-d': 11, 'm.c. smooth': 11, 'm.c. trouble': 11, 'three times dope': 11, 'kyper': 11, 'mc lyte': 11, 'the jaz': 11, '2 bigg m.c.': 11, 'xclan': 10, 'partners in kryme': 10, 'silk tymes leather': 10, 'the ubc': 10, 'epmd': 10, 'brand nubian': 10, 'de la soul': 9, 'jungle brothers': 9, 'def dames': 9, 'kool moe dee': 9, 'tairrie b.': 9, 'kings of swing': 9, 'dana dane': 9, 'chubb rock': 9, 'maestro fresh-wes': 8, 'missy mist': 8, 'kenny b devine': 8, 'audio two': 8, 'david bowie with queen latifah': 8, 'grandaddy i.u.': 8, 'queen latifah': 7, 'mark dee': 7, 'cool c': 7, 'paris': 7, '3rd bass': 6, 'biz markie': 6, 'gerardo': 6, 'the young and the restless': 5, 'vicious beat posse': 5, 'd.j. magic mike': 5, 'c.p.o.': 5, 't.d.c.': 5, '2 black 2 strong mmg': 5, 'son of bazerk/no self control': 4, 'k.m.d.': 4, 'mr. lee': 3, 't-ski': 2, 'm.c. shan': 2, 'kwame': 1, 'wreckx-n-effect': 1, 'dj quik': 1, 'm.c. jr. cas': 1}\n",
      "rappers_billboard_apparition_1991_1992.txt\n",
      "{'chubb rock': 49, 'leaders of the new school': 34, 'gang starr': 33, 'll cool j': 31, 'dj quik': 30, 'naughty by nature': 28, 'salt-n-pepa': 27, 'jibri wise one': 27, 'brand nubian': 26, 'a tribe called quest': 26, 'geto boys': 26, 'black sheep': 26, 'ice-t': 25, 'big daddy kane': 23, 'larry larr': 22, 'amg': 22, '3rd bass': 22, \"compton's most wanted\": 22, 'mc lyte': 22, 'public enemy': 22, 'cypress hill': 22, 'main source': 21, 'tim dog': 19, \"umc's\": 19, \"kid 'n play\": 18, 'm.c. hammer': 17, 'k.m.d.': 17, 'terminator x': 17, 'queen latifah': 17, 'nikki d': 16, 'digital underground': 16, 'gerardo': 15, 'redhead kingpin': 15, 'the 2 live crew': 15, 'candyman': 14, 'yo-yo': 13, 'd-nice': 13, 'mario': 13, 'biz markie': 13, '2nd ii none': 13, 'scarface': 13, 'the d.o.c.': 12, 'poison clan': 12, 'de la soul': 12, 'slick rick': 12, 'ice cube': 12, 'craig-g': 11, 'def jef': 11, 'marley marl': 11, 'poor righteous teachers': 11, 'grandaddy i.u.': 10, 't.c.f.': 10, 'del the funky homosapien': 10, 'epmd': 9, 'too $hort': 9, 'hansoul': 9, 'kool moe dee': 9, 'f.s. effect': 9, 'son of bazerk/no self control': 8, 'arb': 8, 'k-9 posse': 8, 'son of bazerk': 8, 'justin warfield': 8, '2 kings in a cipher': 8, 'h.e.a.l.': 8, 'sir mix-a-lot': 8, 'bwp': 7, 'run-d.m.c.': 7, '2 black 2 strong mmg': 7, \"oaktown's 3.5.7\": 7, 'latin alliance': 7, 'above the law': 7, 'm.c. brains': 7, 'm.c. jr. cas': 6, 'the genius': 6, 'definition of sound': 6, 'the jaz': 6, 'xclan': 6, 'fu-schnickens': 6, 'k-solo': 5, 'l.a. posse': 5, 'fonke socialistiks': 5, 'fifth platoon': 5, 'hi-c': 5, 'sylk smoov': 5, 'special ed': 4, 'father m.c.': 4, 'buffalo soldiers': 4, 'def dames': 4, 'lord finesse': 4, 'movement ex': 3, 'young black teenagers': 3, 'diamond shell': 3, 'boogie down productions': 3, 'true culture': 3, \"rappin' is fundamental\": 2, 'kid capri': 2, 'sam \"the beast\"': 2, 'the cookie crew': 2, 'bust down': 2, 'luke': 2, 'monie love': 1}\n",
      "rappers_billboard_apparition_1992_1993.txt\n",
      "{'arrested development': 47, 'das efx': 45, 'kris kross': 41, 'cypress hill': 34, 'the college boyz': 32, 'fu-schnickens': 29, 'gang starr': 28, 'public enemy': 26, 'epmd': 26, 'm.c. brains': 25, 'chi-ali': 25, 'grand puba': 25, 'sir mix-a-lot': 24, 'super cat': 24, 'chubb rock': 23, 'double xx': 22, 'black sheep': 21, 'positive k': 21, 'k-solo': 20, 'xclan': 19, 'yo-yo': 19, 'luke': 18, 'too $hort': 18, 'redman': 18, 'wreckx-n-effect': 18, 'ice cube': 17, 'a tribe called quest': 17, 'brotherhood creed': 17, 'm.c. breed': 17, 'house of pain': 17, 'n2deep': 17, 'snow': 17, 'brand nubian': 17, 'mc lyte': 16, 'naughty by nature': 15, 'spice 1': 15, 'bushwick bill': 15, 'mad cobra': 15, 'tim dog': 14, 'miles davis': 14, 'mc serch': 14, 'zhigge': 14, 'home team': 14, \"umc's\": 13, '2pac': 13, '2nd ii none': 13, \"lil' shawn\": 13, 'bdp': 13, 'kid frost': 13, 'main source': 13, \"compton's most wanted\": 13, 'common sense': 13, 'amg': 12, 'dj quik': 12, 'digable planets': 12, 'father m.c.': 12, 'dr. dre introducing snoop doggy dogg': 11, 'willie d': 11, 'doug e. fresh': 10, 'prince markie dee and the soul convention': 10, 'lighter shade of brown': 10, 'leaders of the new school': 9, 'scarface': 9, 'penthouse players clique': 9, 'monie love': 9, 'a.d.o.r.': 9, 'lords of the underground': 9, 'apache': 9, 'nasty nas': 9, 'young black teenagers': 9, 'south central cartel': 8, 'sister souljah': 8, 'sylk smoov': 8, \"da youngsta's\": 8, 'organized konfusion': 7, 'kwame': 7, 'mc ren': 7, 'success-n-effect': 7, 'da lench mob': 7, 'paperboy': 7, 'del the funky homosapien': 6, 'ghetto girlz': 6, 'the future sound': 6, \"ultramagnetic mc's\": 6, 'beastie boys': 6, 'ho frat ho!': 6, 'brothers uv da blakmarket': 6, 'boogie down productions': 5, 'digital underground': 5, 'rough house survivers': 5, \"y'all so stupid\": 5, 'onyx': 5, 'lord finesse': 4, 'queen latifah': 4, 'true culture': 4, 'big daddy kane': 4, 'raheem': 4, 'heather b.': 4, 'dr. dre': 4, 'c.e.b.': 4, 'paradise': 3, 'highland place mobsters': 2, 'shabba ranks': 2, 'above the law': 2, 'd-nice': 1, 'n.w.a': 1, 'louie rankin': 1, 'shawnie ranks': 1}\n",
      "rappers_billboard_apparition_1993_1994.txt\n",
      "{'dr. dre': 45, '2pac': 45, 'lords of the underground': 44, '95 south': 41, 'onyx': 36, 'mc lyte': 34, 'tag team': 33, 'ice cube': 30, 'cypress hill': 28, 'wu-tang clan': 28, 'mista grimm': 27, 'll cool j': 26, 'digable planets': 25, 'kris kross': 25, 'boss': 25, 'illegal': 25, 'souls of mischief': 24, 'scarface': 24, 'geto boys': 23, 'erick sermon': 22, 'father': 22, \"shaquille o'neal\": 21, 'common sense': 20, 'trends of culture': 20, \"da youngsta's\": 20, 'intelligent hoodlum': 20, 'yo-yo': 20, 'run-d.m.c.': 19, 'krs-one': 19, 'salt-n-pepa': 19, 'k7': 19, 'tha alkaholiks': 18, 'funkdoobiest': 17, 'a tribe called quest': 17, 'too $hort': 17, 'naughty by nature': 16, 'redman': 16, 'm.c. breed': 16, 'fat joe': 16, 'eazy-e': 16, 'das efx': 16, 'the pharcyde': 15, 'de la soul': 15, 'daddy-o': 15, 'tim dog': 14, 'kam': 14, 'biz markie': 14, 'queen latifah': 14, 'domino': 14, 'mc ren': 14, 'jeru the damaja': 14, '12 gauge': 14, 'born jamericans': 14, 'prince markie dee and the soul convention': 13, \"the flavor unit mc's\": 13, 'coolio': 13, 'us3': 13, 'jungle brothers': 12, 'snoop dogg': 12, 'doug e. fresh': 12, 'positive k': 11, 'brand nubian': 11, 'c.e.b.': 10, 'monie love': 10, 'spice 1': 10, 'the beatnuts': 10, 'leaders of the new school': 10, 'raheem the dream': 10, 'big daddy kane': 9, 'knucklehedz': 9, 'duice': 9, 'poison clan': 9, 'rakim': 9, 'total devastation': 9, 'snow': 8, 'wreckx-n-effect': 8, 'shabba ranks/queen latifah': 8, 'lin que': 8, 'george clinton': 8, 'dirt nation': 8, 'above the law': 7, 'kilo': 7, 'mobb deep': 7, 'rbl posse': 7, 'dred scott': 7, 'casual': 7, 'young black teenagers': 6, 'chubb rock': 6, 'shawnie ranks': 6, 'kenny dope': 6, 'general grant': 6, 'hoodratz': 6, 'private investigators': 6, 'outkast': 6, 'paperboy': 5, 'super cat': 5, 'luke': 5, 'trique-dik-slik': 5, 'threat': 5, 'nikki d': 5, 'hi-c': 5, 'black maddness': 5, 'masta ace incorporated': 5, 'm.c. hammer': 5, 'da lench mob': 4, 'apache': 4, 'grand puba': 4, 'runaway slaves': 4, 'rumpletilskinz': 4, 'the almighty rso': 4, 'shaggy': 4, 'snoop doggy dogg': 4, 'terminator x': 4, 'shyheim': 4, 'meshell ndegeocello': 4, 'father m.c.': 3, 'arrested development': 3, 'chi-ali': 3, 'p.m. dawn': 3, \"y'all so stupid\": 3, \"fu-schnickens w/ shaquille o'neal\": 3, 'poizon posse': 3, 'ice dog': 3, 'black moon': 3, 'gang starr': 3, 'dfc duet with mc eiht': 3, 'zhigge': 2, 'louie rankin': 2, 'to be continued...': 2, 'krash man': 2, 'rumble': 2, 'dj laz': 2, 'main source': 2, 'm.c. shy-d': 2, 'nas': 2, 'nasty nas': 1, 'xclan': 1, 'shabba ranks': 1, 'mc eiht': 1, 'shadz of lingo': 1, 'code blue posse': 1, 'smooth': 1, 'the legion with black sheep': 1, 'mega banton': 1, 'lighter shade of brown': 1, 'sudden change': 1, 'the new 2 live crew': 1}\n",
      "rappers_billboard_apparition_1994_1995.txt\n",
      "{'outkast': 61, 'm.c. hammer': 59, '69 boyz': 56, 'queen latifah': 48, 'da brat': 47, 'wu-tang clan': 42, 'craig mack': 40, 'nas': 39, 'fugees': 38, 'tag team': 37, 'warren g': 36, 'mad lion': 35, 'a tribe called quest': 34, 'coolio': 33, 'the notorious b.i.g.': 33, 'domino': 32, \"shaquille o'neal\": 32, 'gang starr': 30, 'black moon': 30, '12 gauge': 29, 'salt-n-pepa': 29, 'above the law': 29, 'bone thugs-n-harmony': 29, 'doug e. fresh': 28, 'ahmad': 28, 'ice cube': 27, 'the conscious daughters': 27, 'patra': 27, 'masta ace incorporated': 26, 'volume 10': 26, \"rappin' 4-tay\": 25, \"dis `n' dat\": 25, 'snoop doggy dogg': 24, 'lords of the underground': 24, 'smif-n-wessun': 24, 'the puppies': 24, 'sudden change': 23, 'gravediggaz': 23, 'keith murray': 23, 'ill al skratch': 22, 'jeru the damaja': 21, 'the roots': 21, 'fu-schnickens': 21, 'method man': 20, 'too $hort': 19, 'rayvon': 19, 'lighter shade of brown': 18, 'king just': 18, 'the crooklyn dodgers': 18, 'e-40': 18, 'common sense': 18, 'digable planets': 18, 'us3': 17, 'eazy-e': 17, 'k7': 17, 'simple e': 17, 'the lady of rage': 17, \"da youngsta's\": 17, 'dru down': 17, 'scarface': 17, 'tha alkaholiks': 16, 'public enemy': 16, 'spice 1': 16, 'redman': 16, 'the new 2 live crew': 15, 'illegal': 15, 'boogiemonsters': 15, 'pmd': 15, 'paris': 15, 'black sheep': 15, 'vicious': 15, 'lucas': 14, 'quo': 14, 'dfc duet with mc eiht': 13, 'shyheim': 13, 'arrested development': 13, 'artifacts': 13, 'd.j. trans': 13, 'super cat': 13, 'nine': 13, '2pac': 12, 'born jamericans': 12, 'meshell ndegeocello': 12, 'terminator x': 12, '95 south': 12, 'slick rick': 12, 'dana dane': 12, 'way 2 real': 12, 'raheem the dream': 11, 'kris kross': 11, 'mic geronimo': 11, 'bossman and the blakjak': 11, 'channel live': 11, 'luke': 10, 'group home': 10, 'krs-one': 9, 'big daddy kane': 9, 'bush babees': 9, '2pac duet with mopreme': 8, 'm.o.p.': 8, 'south central cartel': 8, 'fat joe da gangsta': 8, 'm.c. breed': 8, 'sam \"the beast\"': 8, 'genius': 8, 'brand nubian': 8, 'michael wall love foundation': 8, 'biggy smallz': 7, 'father': 6, 'mega banton': 6, 'the beatnuts': 6, 'house of pain': 6, 'flatlinerz': 6, 'capleton': 6, 'dred scott': 5, 'dfc': 5, 'rottin razkals': 5, 'dem boiz': 4, 'freddie foxxx': 4, 'amg': 4, \"ol' dirty bastard\": 4, 'str8-g': 4, 'das efx': 3, \"dbg'z\": 3, 'beastie boys': 3, 'thug life': 3, 'dj smurf and p.m.h.i.': 3, 'snoop dogg': 2, 'mc lyte': 2, 'souls of mischief': 2, 'raw fusion': 2, 'ant banks': 2, 'extra prolific': 2, 'organized konfusion': 2, 'dj kool': 2, 'rally ral': 2, 'underground kingz': 2, 'breakdown': 2, 'funkdoobiest': 2, 'mobb deep': 2, 'mc ren': 1, 'cypress hill': 1, 'm.c. shy-d': 1, 'del the funky homosapien': 1, 'nikki kixx': 1, 'nefertiti': 1, 'rampage': 1, 'sir mix-a-lot': 1, 'the college boyz': 1, 'ray luv': 1, 'king tee': 1, 'souls of mischief/casual': 1, 'bar-kays': 1, 'mel-low': 1, 'the wascals': 1, 'd.j. magic mike': 1, 'big l': 1}\n",
      "rappers_billboard_apparition_1995_1996.txt\n",
      "{'the notorious b.i.g.': 68, '2pac': 65, 'lost boyz': 56, 'naughty by nature': 44, '69 boyz': 43, 'az': 43, 'capleton': 42, 'bone thugs-n-harmony': 42, \"ol' dirty bastard\": 41, 'mobb deep': 40, 'luniz': 36, 'skee-lo': 34, 'masta ace incorporated': 33, 'keith murray': 31, 'method man': 31, 'mack 10': 31, 'the dove shack': 31, 'junior m.a.f.i.a.': 30, 'craig mack': 29, 'rottin razkals': 29, 'big l': 29, '95 south': 28, 'dr. dre': 28, 'dj smurf and p.m.h.i.': 27, 'onyx': 27, 'jamal': 26, 'heather b.': 25, 'shaggy': 25, 'redman/method man': 25, 'group home': 24, 'mystikal': 24, 'nine': 22, 'd.j. trans': 22, 'da brat': 22, 'blahzay blahzay': 22, 'twinz': 21, 'mad skillz': 21, 'goodie mob': 21, 'raekwon': 21, 'cypress hill': 21, 'the pharcyde': 21, 'erick sermon': 21, 'redman': 19, 'mic geronimo': 19, 'super cat': 19, 'scarface': 18, 'questionmark asylum': 18, 'grand puba': 18, 'kilo': 18, 'smooth': 17, 'the click': 17, 'smoothe da hustler': 17, 'channel live': 16, 'mad lion': 16, 'smif-n-wessun': 16, 'miilkbone': 16, 'a-town players': 16, 'frost': 16, 'genius/gza': 16, 'll cool j': 16, 'too $hort': 15, 'domino': 15, 'doug e. fresh': 15, 'heltah skeltah and o.g.c. as the fab 5': 15, 'l.a.d.': 15, 'dana dane': 14, 'dj quik': 14, 'buju banton': 14, 'chef raekwon': 14, 'salt-n-pepa': 14, 'the d.o.c.': 14, 'kool g rap': 14, 'way 2 real': 13, 'the roots': 13, 'the b.u.m.s': 13, 'show and a.g.': 13, 'special ed': 13, 'beenie man': 13, 'krs-one': 13, 'suga': 13, 'kris kross': 13, 'coolio': 13, 'fugees': 12, 'das efx': 12, 'k7': 11, 'mentally disturbed': 11, 'eazy-e': 11, 'vicious': 10, 'common sense': 10, 'various artists': 10, 'lords of the underground': 9, 'thug life': 9, 'h.m.h.': 9, \"crooklyn dodgers '95\": 9, 'dru down': 8, 'frankie cutlass': 8, 'shabazz the disciple': 8, 'bushwick bill': 8, 'mc nas-d': 8, 'bossman and the blakjak': 7, 'camp lo': 7, 'tha alkaholiks': 6, 'bush babees': 6, 'bushwackas': 6, \"lil' shawn\": 6, '3 steps from nowhere': 6, 'bahamadia': 6, \"rappin' 4-tay\": 5, 'brand nubian': 5, 'digable planets': 5, 'sam \"the beast\"': 5, 'kausion': 5, 'm.c. breed': 4, 'funkdoobiest': 4, 'sunz of man': 4, 'lord finesse': 4, 'jackal the bear': 4, \"da youngsta's\": 3, \"dis `n' dat\": 3, 'king just': 3, 'the nonce': 3, 'florida boyz': 3, 'incidents': 3, 'otr clique': 3, 'father m.c.': 3, 'bandit': 2, \"crazy l'eggs\": 2, 'sha slim': 2, 'jt the bigga figga': 2, 'splack pack': 2, 'nonchalant': 2, 'the conscious daughters': 2, 'fu-schnickens': 1, 'str8-g': 1, 'big mike': 1, 'black sheep': 1, 'king tee': 1, 'jemini-the gifted one': 1, 'artifacts': 1, 'cella dwellas': 1, 'souls of mischief': 1, \"jammin' g\": 1, 'gripsta': 1, 'g-shorties': 1}\n",
      "rappers_billboard_apparition_1996_1997.txt\n",
      "{'ll cool j': 79, 'lost boyz': 68, 'goodie mob': 55, \"quad city dj's\": 55, 'coolio': 48, 'outkast': 46, 'nonchalant': 39, 'xzibit': 38, 'sadat x': 35, 'the roots': 34, 'nas': 33, 'the 2 live crew': 33, 'kris kross': 31, 'busta rhymes': 31, 'cypress hill': 31, \"rappin' 4-tay\": 30, 'dj kool': 30, 'heltah skeltah': 30, 'capone -n- noreaga': 30, 'bahamadia': 29, 'a+': 29, 'luke': 28, 'ras kass': 28, 'delinquent habits': 27, 'crucial conflict': 27, 'jay-z': 27, 'westside connection': 26, 'bone thugs-n-harmony': 25, 'southsyde b.o.i.z.': 24, 'domino': 23, 'kilo': 23, 'freak nasty': 23, 'master p': 22, 'de la soul': 22, 'da brat': 22, 'camp lo': 21, 'redman': 20, 'large professor': 20, 'originoo gunn clappaz': 20, 'killarmy': 20, 'smoothe da hustler': 19, 'passion': 19, 'the pharcyde': 18, 'dru down': 18, 'fugees': 17, 'digital underground': 17, 'richie rich': 17, 'sir mix-a-lot': 16, 'the click': 15, 'fat joe': 15, 'the whoridas': 15, 'mc lyte': 15, 'd.j. trans': 15, 'fraze': 15, 'blahzay blahzay': 14, 'heather b.': 14, 'shyheim': 13, 'al tariq kool fash': 13, 'jeru the damaja': 13, 'keith murray': 13, 'jamal': 12, 'cella dwellas': 12, 'lil h.d.': 12, 'mac mall': 12, 'm.o.p.': 11, 'three 6 mafia': 11, 'ice-t': 10, 'otr clique': 10, 'sam \"the beast\"': 10, 'pmd': 10, 'akinyele': 10, 'the conscious daughters': 9, 'az': 9, 'above the law': 9, 'chuck d': 9, 'mobb deep': 9, 'heltah skeltah and o.g.c. as the fab 5': 8, 'poppa doo': 8, 'capleton': 7, 'chino xl': 7, 'erick sermon': 6, 'eazy-e': 6, 'kawz': 6, 'krs-one': 6, 'frost': 5, 'frankie cutlass': 5, 'whodini': 5, 'black moon': 5, 'da 5 footaz': 5, 'one and one': 5, 'born jamericans': 5, 'l.a.d.': 4, 'the notorious b.i.g.': 4, 'mic geronimo': 4, 'stayhi': 4, 'nine': 4, 'disco and the city boyz': 4, 'wreckx-n-effect': 4, 'royal flush': 4, 'ice cube': 4, 'tracey lee': 4, 'method man': 3, 'g-shorties': 3, 'raekwon': 3, 'mr. malik': 3, 'the puppies': 3, 'skoota': 3, 'big noyd': 3, 'killafornia organization': 3, 'the lost trybe of hip-hop': 3, 'grav': 3, 'villain': 3, 'dead ringaz': 3, 'jackal the bear': 2, '95 south': 2, 'group home': 2, 'mr. x': 2, 'mc ren': 2, 'southern playaz': 2, 'foe': 2, 'hev-d': 2, 'mystikal': 1, 'mad skillz': 1, 'smif-n-wessun': 1, 'yella': 1, 'artifacts': 1, 'madd head': 1, 'poor righteous teachers': 1, 'twista': 1, 'spearhead': 1, 'wildliffe society': 1}\n",
      "rappers_billboard_apparition_1997_1998.txt\n",
      "{'dj kool': 57, 'bone thugs-n-harmony': 56, 'twista': 48, 'the notorious b.i.g.': 43, 'capone -n- noreaga': 41, 'freak nasty': 40, 'the 2 live crew': 37, 'jay-z': 35, 'outkast': 34, 'magoo and timbaland': 34, 'krs-one': 33, 'westside connection': 32, 'born jamericans': 31, 'lost boyz': 30, 'mack 10': 29, 'the lemonheads': 28, 'tracey lee': 25, 'warren g': 25, 'll cool j': 23, 'killarmy': 23, 'suga free': 23, 'the whoridas': 23, 'young m.c.': 23, 'mr. money loc': 22, 'mc lyte': 21, 'redman': 21, 'fraze': 21, 'soundmaster t': 20, 'dfc': 20, 'richie rich': 19, 'mase': 19, 'big punisher': 19, 'royal flush': 18, 'craig mack': 18, 'naughty by nature': 18, 'mad dog clique': 17, 'hev-d': 16, '3x krazy': 16, 'the beatnuts': 16, 'kinfusion': 16, 'camp lo': 15, \"quad city dj's\": 15, 'rbl posse': 15, 'kinsu': 15, 'gang starr': 15, 'shaqueen': 15, 'wu-tang clan': 14, 'blac haze': 13, 'wc from westside connection': 13, 'dead ringaz': 12, 'jungle brothers': 12, 'mobb deep': 12, 'epmd': 12, \"d'meka\": 12, 'akinyele': 11, 'spearhead': 11, 'hurricane g': 11, 'gp wu': 11, 'rampage': 11, 'the roots': 10, 'derelect camp': 10, 'rodney o': 10, '2pac': 10, 'militia': 10, 'jeru the damaja': 9, 'kilo ali': 9, 'daz and soopafly': 9, 'nx': 9, 'busta rhymes': 9, 'nas': 8, 'boogiemonsters': 8, 'the comrads': 8, 'heat': 8, 'm.o.p.': 7, 'frost': 7, 'markie dee': 7, 'the psycho realm': 7, 'onyx + wu-tang clan': 7, 'wildliffe society': 6, 'artifacts': 6, 'us3': 6, 'the lost trybe of hip-hop': 6, \"lil' o\": 6, 'wyclef jean': 6, 'the lox': 6, 'xzibit': 4, \"nut n' 2 nice\": 4, 'cru': 4, 'killah priest': 4, 'da brat': 3, 'd.j. trans': 3, '2gm': 3, 'will smith': 3, 'ras kass': 2, 'mystikal': 2, 'da organization': 2, 'run-d.m.c. vs. jason nevins': 2, 'kingpin skinny pimp': 2, 'nadanuf': 2, 'otr clique': 1, 'dj spankx': 1, 'organized konfusion': 1, 'luke': 1, 'dj nasty knock': 1}\n",
      "rappers_billboard_apparition_1998_1999.txt\n",
      "{'busta rhymes': 56, 'beenie man': 38, 'will smith': 37, 'noreaga': 36, '69 boyz': 35, 'wyclef jean': 34, 'too $hort': 33, 'xzibit': 32, 'canibus': 27, 'snoop dogg': 27, 'salt-n-pepa': 26, 'raheem': 26, 'tragedy, capone, infinite': 26, 'wc from westside connection': 25, 'all city': 24, 'nastyboy klick': 23, 'll cool j': 22, 'militia': 22, 'hi-town djs': 22, 'john forte': 22, 'heather b.': 22, 'b.l.h.u.n.t.': 21, 'general grant': 20, 'cypress hill': 20, 'brand nubian': 20, 'dj nasty knock': 19, 'big daddy kane': 19, 'mr. money loc': 18, \"lil' keke\": 18, 'mc ren': 18, 'mag 7': 18, 'lauryn hill': 18, 'eminem': 18, 'p.a. parental advisory': 17, 'a+': 17, 'rufus blaq': 16, 'tee kee': 16, 'big punisher': 15, 'nadanuf': 15, 'chuck smooth': 15, 'cosmic slop shop': 14, 'fat pat': 14, 'foxy brown': 14, 'redman': 14, 'a tribe called quest': 13, 'down south players': 13, 'big mack': 13, 'the lox': 12, 'born jamericans': 12, 'mack 10': 11, 'mike city': 11, 'players for life': 11, 'dres': 11, 'medina green': 11, 'kingpin skinny pimp': 10, 'ghetto mafia': 10, 'kompozur': 10, 'darq age': 10, 'b da outta sight child': 10, 'mase': 9, \"d'meka\": 9, 'buddha monk': 9, 'jay-z': 9, 'the notorious b.i.g.': 8, 'm.o.p.': 8, 'professor griff': 8, 'gang starr': 7, 'freak nasty': 7, 'sporty thievz': 7, 'slim': 7, '24/7': 6, 'mcgruff': 6, 'blac haze': 6, 'dmx': 6, 'the roots': 6, 'the psycho realm': 5, 'dmx, method man, nas, ja rule': 5, 'shaqueen': 4, 'bone thugs-n-harmony': 4, 'naughty by nature': 4, 'onyx + wu-tang clan': 4, 'kinsu': 3, 'magoo and timbaland': 3, 'm.a.d. kutz': 3, 'lyricist lounge all-stars': 3, 'indo g': 3, 'infamous syndicate': 3, 'rampage': 2, 'heat': 2, 'craig mack': 2, 'saafir': 2, 'top authority': 2, 'stayhi': 2, 'suthern klick': 2, 'sauce money': 2, '25 to life presents... tragedy khadafi': 2, 'afu-ra': 2, 'nas': 2, 'killah priest': 1, 'capone -n- noreaga': 1, 'run-d.m.c. vs. jason nevins': 1, 'twista': 1, 'charli \"chuck\" baltimore': 1, 'onyx': 1, 'rza as bobby digital': 1, 'mood': 1, 'juvenile': 1, 'psycho vs. iriscience': 1}\n",
      "rappers_billboard_apparition_1999_2000.txt\n",
      "{'jay-z': 69, 'too $hort': 58, 'chuck smooth': 45, 'nas': 38, 'ja rule': 35, 'q-tip': 33, 'youngbloodz': 31, 'eminem': 29, \"cam'ron\": 28, 'black moon': 28, 'pharoahe monch': 26, 'o.g.c.': 25, 'akinyele': 25, 'gangsta boo': 23, '40k crew': 22, 'tru': 22, 'rahzel': 21, 'u-god': 21, 'mc eiht': 20, 'black dave': 20, 'mos def': 20, 'infamous syndicate': 19, 'drama': 19, 'lauryn hill': 15, 'mozae': 15, 'mobb deep': 14, 'ike jackson presents tom paper': 14, 'dmx': 14, 'redman': 13, 'hot ones': 13, 'juvenile': 12, 'indo g': 12, 'mr. mike': 12, 'fifteen': 12, 'o': 12, \"champtown introducing d'phuzion\": 12, 'grandmaster slice': 12, 'b da outta sight child': 11, 'whip': 11, 'inspectah deck': 11, 'missy \"misdemeanor\" elliott': 11, 'the whoridas': 11, 'screwball': 11, 'large professor and neek the exotic': 11, 'facez of death': 11, 'snoop dogg presents tha eastsidaz': 11, 'psycho vs. iriscience': 10, 'sporty thievz': 10, 'gza/genius': 10, 'white dawg': 10, 'eve': 10, 'shyheim': 10, 'rakim': 10, 'buddha monk': 9, 't.w.d.y.': 9, \"lil' rachett\": 9, 'maurice malone presents bullets and gunsmoke': 9, 'chef raekwon': 9, 'raheem': 8, 'hot boys': 8, 'will smith': 7, 'cha cha': 7, 'd.i.t.c.': 7, 'noreaga': 6, 'snoop dogg': 5, 'a+': 5, 'the gutsmen': 5, 'the union': 5, 'afu-ra': 5, 'miracle': 5, 'nastyboy klick': 4, 'bigg villa': 4, 'jurassic 5': 4, 'da brat': 4, 'mr. money loc': 3, 'skeme team': 3, 'memphis bleek': 3, 'the what': 3, 'kurtis blow': 3, 'agallah': 3, 'brand nubian': 2, 'big mack': 2, 'foxy brown': 2, 'del the funky homosapien': 2, '50 cent': 2, 'bumpy knuckles': 2, 'll cool j': 2, 'ying yang twins': 2, 'black rob': 2, 'common': 2, 'all real': 2, '69 boyz': 1, 'tragedy, capone, infinite': 1, 'xzibit': 1, 'busta rhymes': 1, 'kingpin skinny pimp': 1, \"ol' dirty bastard\": 1, 'joe blakk': 1, 'tash': 1, 'the cauz': 1, 'dead prez': 1, 'qnc': 1, 'arsonists': 1, 'royce da 5\\'9\"': 1, 'casual': 1, 'unbound': 1, 'planet asia': 1, 'krumb snatcha': 1, 'spm': 1, 'the notorious b.i.g.': 1, 'dj revolution': 1, 'choclair': 1}\n",
      "rappers_billboard_apparition_2000_2001.txt\n",
      "{'jay-z': 68, 'too $hort': 50, 'ying yang twins': 38, 'nelly': 38, 'ghostface killah': 35, 'miracle': 34, 'dmx': 33, 'common': 33, 'x-con': 33, 'major figgas': 32, \"philly's most wanted\": 30, 'big l': 28, 'cuban link': 27, 'mystikal': 27, 'snoop dogg presents tha eastsidaz': 26, 'jahari': 26, 'da brat': 24, 'legend': 23, 'eminem': 23, 'drama': 21, 'black rob': 20, '504 boyz': 20, 'suicide': 20, 'hip hop for respect': 19, 'dj hurricane with xzibit, big gipp and pharoahe monch': 19, 'chuck smooth': 18, 'jurassic 5': 18, 'wu-tang clan': 18, 'master p': 17, 'pharoahe monch': 16, 'method man': 16, 'devyne stephens \"the entertainer\"': 16, 'qb finest': 16, 'll cool j': 15, 'dilated peoples': 15, 'm.o.p.': 15, 'spooks': 14, 'jovishes': 14, 'strings': 14, \"cam'ron\": 14, 'phife dawg': 14, 'will smith': 13, \"lil' kim\": 13, 'smut peddlers': 13, 'd12': 13, 'outkast': 13, 'youngbloodz': 12, 'murda-1, nittie, lil gangsta, short, heron, v.s.': 12, 'havana': 12, 'prodigy': 12, 'freddie foxxx bumpy knuckles': 12, 'beanie sigel': 11, 'self': 10, 'lil bow wow': 10, 'ludacris': 10, 'nas': 9, \"champtown introducing d'phuzion\": 9, 'camara': 9, 'master ace': 9, 'the pharcyde': 9, 'ike jackson presents tom paper': 8, 'rah digga': 8, 'capone -n- noreaga': 8, 'fatlip': 7, 'xzibit': 7, 'the bad seed': 7, \"4th avenue jones'\": 7, 'grandmaster slice': 6, 'mad skillz': 6, 'mob squad': 6, 'spm': 6, 'royce da 5\\'9\"': 6, 'shyne': 6, 'dro': 6, 'sub-urban': 6, 'jay-z, beanie sigel and memphis bleek': 6, 'track squad': 6, 'mobb deep': 5, 'busta rhymes': 5, 'cage': 5, 'mos def': 4, 'hot ones': 4, 'non phixion': 4, 'trina': 4, 'kazi': 4, 'ja rule': 4, 'black miss': 4, 'papa seville': 4, 'cocoa brovaz': 4, 'the transitions': 4, 'o.g.c.': 3, 'akinyele': 3, 'johnny doswell aka mr. chops': 3, 'mixmaster mike': 3, 'cali agents': 3, 'large professor': 3, 'run-d.m.c.': 3, 'mr. lif': 3, 'daezaster': 3, 'company flow': 3, 'project pat': 3, 'cash money millionaires': 3, 'krs-one': 3, 'thirstin howl iii': 2, 'cypress hill': 2, 'sporty thievz': 2, 'j.u.i.c.e.': 2, 'canibus': 2, 'el the sensei': 2, 'defari': 2, 'sticky fingaz': 2, 'buckwild presents brand nubian': 2, 'd.j. jubilee': 2, 'richie rich': 2, 'the beatnuts': 2, 'eve': 2, 'all real': 1, 'choclair': 1, 'rakim': 1, 'q-tip': 1, 'shyheim': 1, 'del the funky homosapien': 1, 'd.i.t.c.': 1, 'screwball': 1, 'the murderers': 1, 'tragedy khadafi': 1, '69 boyz': 1, 'sound providers': 1, 'dead prez': 1, 'wyclef jean': 1, 'slum village': 1, 'channel live': 1, 'masterminds': 1, 'born allah vs. grand agent': 1, 'milano': 1, 'b.b. jay': 1, 'pep love': 1, 'reks': 1, 'dj revolution': 1, 'heather b.': 1, 'the black eyed peas': 1, 'firestarr': 1, 'mr. complex': 1, 'deltron 3030': 1, 'ima thug -n- sha nitti: i-n-s thugz': 1, 'black thought': 1, 'people under the stairs': 1, 'cormega': 1, 'd.v. alias khrist': 1, 'phenomenon': 1, \"yesterday's new quintet\": 1}\n",
      "rappers_billboard_apparition_2001_2002.txt\n",
      "{'the notorious b.i.g.': 39, 'd12': 36, 'missy \"misdemeanor\" elliott': 30, 'lil bow wow': 27, 'outkast': 27, 'dennis da menace': 24, 'original p introducing hyped up westbound soljaz': 24, 'city high': 21, \"philly's most wanted\": 20, 'ludacris': 20, 'superb': 20, 'coo coo cal': 20, 'crimewave': 20, 'petey pablo': 19, \"po' white trash and the trailer park symphony\": 19, 'busta rhymes': 19, 'jay-z': 18, \"lil' romeo\": 17, 'rising son': 17, 'strik 9ine': 17, 'the beatnuts': 16, 'm.o.p.': 15, \"lil' zane\": 14, 'skillz': 14, 'mr. cheeks': 14, 'fabolous': 14, 'phenomenon': 13, 'mystikal': 13, 'jahari': 13, 'beanie sigel': 13, 'nas': 13, 'foxy brown': 12, 'dena cali': 12, 'chocolate bandit': 12, 'bear witnez!': 12, 'eve': 11, 'angie martinez': 11, 'caponiac': 11, 'alley life': 11, 'tha liks': 11, 'young phantom': 11, 'survivalist': 11, 'dmx': 11, 'bubba sparxxx': 11, \"john got'ti\": 11, 'g. dep': 11, 'papa seville': 10, 'project pat': 10, 'bigga figgaz': 10, 'the bad seed': 9, 'qb finest': 9, 'jay-z, beanie sigel and memphis bleek': 9, 'wu-tang clan': 9, 'craig mack': 9, 'the young millionaires': 9, \"4th avenue jones'\": 8, 'master p': 8, 'low life organization': 8, 'bishop briggs': 8, 'cocoa brovaz': 7, 'kodiak': 7, 'track squad': 6, 'xzibit': 6, 'az': 6, 'trick daddy': 6, 'jailbird': 6, 'da entourage': 6, 'empty mynd': 5, 'phatty banks presents club drama': 5, 'pretty willie': 5, 'cappadonna': 4, 'ghostface killah': 4, 'kool g rap': 4, 'juvenile': 4, 'suicide': 3, 'cash money millionaires': 3, 'j-zone presents the old maid billionaires': 3, 'edo g': 3, 'kardinal offishall': 3, 'psycster': 3, 'baby s': 3, 'the transitions': 2, 'chino nino': 2, 'afroman': 2, 'x-con': 1, 'phife dawg': 1, 'medaphoar': 1, 'johnny doswell aka mr. chops': 1, 'camp lo': 1, 'maurice malone presents bullets and gunsmoke': 1, 'caddillac tah': 1, 'deltron 3030': 1, \"yesterday's new quintet\": 1, 'mobb deep': 1, 'bumpy knuckles': 1, 'kool keith': 1, 'mos def': 1, 'the weathermen': 1, 'willie d': 1, 'twin and alchemist': 1}\n",
      "rappers_billboard_apparition_2002_2003.txt\n",
      "{'eminem': 57, 'clipse': 47, 'sean paul': 35, 'nas': 31, '50 cent': 29, 'n.o.r.e.': 28, 'missy \"misdemeanor\" elliott': 26, 'big tymers': 25, 'll cool j': 25, 'nelly': 24, 'styles': 22, 'eve': 15, '2pac': 15, 'mr. cheeks': 14, 'wayne wonder': 13, 'strik 9ine': 12, 'field mob': 12, 'bear witnez!': 11, 'no good': 11, 'lil wayne': 11, 'crimewave': 10, 'willie d': 10, 'the notorious b.i.g.': 9, 'beelow': 9, 'green eyez': 9, 'benzino': 9, 'dennis da menace': 8, 'jay-z': 8, \"lil' ru\": 8, 'ying yang twins': 8, 'big logic': 7, 'pretty willie': 6, 'xzibit': 6, 'original p introducing hyped up westbound soljaz': 5, 'nappy roots': 4, 'snoop dogg': 4, 'ms. jade': 3, 'fabolous': 2, 'phatty banks presents club drama': 2, 'cee-lo': 2, 'gza/genius': 2, 'phenomenon': 1, 'el-p': 1, 'dem ghetto playa$': 1, 'atmosphere': 1}\n",
      "rappers_billboard_apparition_2003_2004.txt\n",
      "{'50 cent': 99, 'jay-z': 53, 'sean paul': 47, 'chingy': 36, 'young gunz': 25, 't.i.': 24, 'ludacris': 22, 'wayne wonder': 20, 'joe budden': 18, 'nas': 17, 'dmx': 16, 'missy elliott': 16, 'g unit': 16, 'the black eyed peas': 15, 'kanye west': 14, 'eminem': 12, 'busta rhymes': 11, '213': 11, \"bad boy's da band\": 11, 'nelly': 10, 'ja rule': 10, 'field mob': 9, 'elephant man': 9, 'obie trice': 9, 'ying yang twins': 9, 'missy \"misdemeanor\" elliott': 8, 'talib kweli': 8, '2pac': 7, 'j-kwon': 7, 'petey pablo': 7, 'bubba sparxxx': 5, 'hitman sammy sam': 4, 'trillville': 3, 'nappy roots': 2, 'stagga lee': 1, \"lil' flip\": 1, 't.o.k.': 1}\n",
      "rappers_billboard_apparition_2004_2005.txt\n",
      "{'t.i.': 49, 'terror squad': 45, 'kanye west': 37, 'jay-z': 35, 'ludacris': 33, 'young buck': 31, 'petey pablo': 30, 'j-kwon': 25, 'lloyd banks': 25, 'twista': 24, \"lil' flip\": 21, 'lil wayne': 21, 'outkast': 20, 'd12': 19, 'll cool j': 19, 'lil scrappy': 19, 'fabolous': 18, 'mobb deep': 16, 'eminem': 14, '50 cent': 13, 'chingy': 12, 'mase': 11, 'nelly': 10, 'daddy yankee': 10, 'elephant man': 9, 'snoop dogg': 9, 'missy elliott': 7, 'dem franchize boyz': 7, 'trillville': 4, 'beenie man': 4, 'young gunz': 3, 't.o.k.': 2, '213': 2, 'nb ridaz': 2, 'cassidy': 2, 'ying yang twins': 2}\n",
      "rappers_billboard_apparition_2005_2006.txt\n",
      "{'50 cent': 52, 't.i.': 46, 'pretty ricky': 44, 'd4l': 29, 'juelz santana': 27, 'ying yang twins': 25, 'the black eyed peas': 23, 'sean paul': 23, 'ludacris': 21, 'lil rob': 21, 'david banner': 21, 'cassidy': 20, 'mike jones': 20, 'boyz n da hood': 19, 'rihanna': 17, 'daddy yankee': 16, 'eminem': 15, 'lil wayne': 15, 'purple ribbon all-stars': 15, 'damian \"jr. gong\" marley': 14, \"lil' kim\": 14, 'juvenile': 14, 'the game': 13, 'busta rhymes': 13, 'kanye west': 12, 'jermaine dupri': 12, 'i-wayne': 11, 'youngbloodz': 10, 'young jeezy': 10, 'fat joe': 9, 'terror squad': 7, 'common': 6, 'snoop dogg': 3, 'memphis bleek': 2, 'three 6 mafia': 2, 't.o.k.': 1}\n",
      "rappers_billboard_apparition_2006_2007.txt\n",
      "{'t.i.': 70, 'rick ross': 37, 'yung joc': 32, 'unk': 31, 'sean paul': 25, 'jim jones': 23, 'young jeezy': 21, 'shawnna': 21, 'jay-z': 19, 'jibbs': 17, 'the game': 16, 'three 6 mafia': 15, 'paul wall': 14, 'busta rhymes': 13, 'lil wayne': 13, 'too $hort': 13, 'pitbull': 13, 'tony matterhorn': 12, 'daddy yankee': 10, 'remy ma': 10, 'mims': 9, 'juvenile': 8, 'juelz santana': 8, 'd4l': 7, 'lil rob': 7, 'outkast': 6, 'the pack': 6, 'brown boy': 6, 'young dro': 6, 'beenie man': 5, 'mavado': 4, 'bubba sparxxx': 3, 'dem franchize boyz': 3, 'purple ribbon all-stars': 2, 'swizz beatz': 2}\n",
      "rappers_billboard_apparition_2007_2008.txt\n",
      "{'kanye west': 41, 'mims': 37, '50 cent': 36, \"soulja boy tell'em\": 35, 'unk': 34, 't.i.': 29, 'gorilla zoe': 29, 'swizz beatz': 28, 'huey': 27, 'shop boyz': 26, 'gucci mane': 26, 'jay-z': 25, 'hurricane chris': 22, 'eve': 19, 'down a.k.a. kilo': 14, 'shawty lo': 12, 'nelly': 10, 'jim jones': 9, 'rocko': 9, 'pretty ricky': 8, 'lil mama': 7, 'common': 6, 'trina': 6, 'missy elliott': 6, 'lil wil': 5, '2 pistols': 5, 'big geminii': 5, 'young buck': 4, 'ludacris': 4, 'kia shine': 4, 'will.i.am': 3, 'snoop dogg': 3, 'collie buddz': 2, 'pitbull': 1, 'trap starz clik': 1}\n",
      "rappers_billboard_apparition_2008_2009.txt\n",
      "{'t.i.': 39, 'shawty lo': 28, 'lil wayne': 25, '2 pistols': 21, 'm.i.a.': 20, 'lil wil': 19, '50 cent': 19, \"soulja boy tell'em\": 18, 'ludacris co-starring t-pain': 18, 'v.i.c.': 17, 'gorilla zoe': 17, 'kanye west': 15, 'rocko': 13, 'maino': 11, 'mims': 11, 'missy elliott': 10, 'ron browz': 9, 'gs boyz': 9, 'jay-z': 7, 'big geminii': 6, 'g unit': 6, 'unk': 6, 'slim thug': 6, 'mike jones': 6, 'sheek louch': 5, 'flo rida': 5, 'wiz khalifa': 4, 'ludacris co-staring plies': 3, 'trina': 2, 'the d.e.y.': 2, 'asher roth': 2}\n",
      "rappers_billboard_apparition_2009_2010.txt\n",
      "{'drake': 66, 'pitbull': 52, 'dorrough': 33, 'the black eyed peas': 29, 'young money': 29, 'plies': 26, 'jay-z + alicia keys': 24, 'new boyz': 21, 'yo gotti': 20, \"soulja boy tell'em\": 19, 'chalie boy': 19, 'flo rida': 18, 'f.l.y. fast life yungstaz': 17, 'kanye west': 16, 'ludacris': 15, 't.i.': 13, 'mullage': 13, 'snoop dogg': 13, 'mike jones': 12, '6 tre g': 12, 'waka flocka flame': 12, 'gs boyz': 11, 'gorilla zoe': 10, 'sean paul': 10, '50 cent': 9, 'jay-z': 9, 'mims': 8, 'eminem': 8, 'jay-z + swizz beatz': 8, 'asher roth': 7, 'lmfao': 7, 'slim thug': 6, 'the party boyz': 6, 'juvenile': 5, 'gucci mane': 5, 'ludacris co-starring t-pain': 3, 'bone': 3, 'ludacris co-staring plies': 2, 'ron browz': 1, 'lil wayne': 1}\n",
      "rappers_billboard_apparition_2010_2011.txt\n",
      "{'waka flocka flame': 47, 'nicki minaj': 46, 'drake': 32, 'cali swag district': 27, 'nelly': 22, 'kanye west': 21, 'yg': 21, 'gucci mane': 20, 't.i.': 20, 'eminem': 20, 'wiz khalifa': 19, \"soulja boy tell'em\": 18, 'fabolous': 18, 'travis porter': 17, 'jay-z + mr. hudson': 16, 'ludacris': 14, 'snoop dogg': 13, 'dorrough': 13, 'jay-z + alicia keys': 12, 'jay-z + swizz beatz': 11, 'young money': 11, 'plies': 11, 'mann': 11, 'the party boyz': 8, 'lil wayne': 8, 'j. cole': 8, '50 cent': 6, 'kanye west jay z': 6, 'roscoe dash': 3, 'lupe fiasco': 3, 'soulja boy': 2, 'bone': 1}\n",
      "rappers_billboard_apparition_2011_2012.txt\n",
      "{'nicki minaj': 48, 'jay z kanye west': 36, 'wiz khalifa': 35, 'waka flocka flame': 29, 'lupe fiasco': 29, 'kanye west': 28, 'drake': 27, 'j. cole': 26, 'travis porter': 23, 'ace hood': 22, 'lmfao': 20, 'fabolous': 18, 'flo rida': 16, 'tyga': 11, 'kreayshawn': 10, 'future': 10, 'kirko bangz': 10, 'lil wayne': 9, 'diggy': 7, 'kanye west jay z': 5, 'yo gotti': 5, 'roscoe dash': 5, 'mann': 4, 'snoop dogg': 2, 'big k.r.i.t.': 1}\n",
      "rappers_billboard_apparition_2012_2013.txt\n",
      "{'future': 48, 'flo rida': 45, 'kanye west, big sean, pusha t, 2 chainz': 40, 'kendrick lamar': 37, 'ca$h out': 30, 'kirko bangz': 29, 'wiz khalifa': 27, 'dj khaled': 25, 'kanye west, jay-z, big sean': 24, 'nicki minaj': 22, 'psy': 22, '2 chainz': 20, 'tyga': 15, 'jay z kanye west': 14, 'big sean': 13, 'driicky graham': 12, 'chief keef': 11, 'trinidad james': 11, 'pitbull': 7, 'b.o.b': 6, 'j. cole': 4, 't.i.': 4, 'drake': 3, 'kid cudi': 2, 'kanye west, r. kelly': 1, 'a$ap rocky': 1}\n",
      "rappers_billboard_apparition_2013_2014.txt\n",
      "{'drake': 66, 'eminem': 60, 'kendrick lamar': 33, 'future': 33, 'jay-z': 27, 'sage the gemini': 26, 'psy': 21, 'kanye west': 18, 'rich homie quan': 17, 'french montana': 16, 'the finatticz': 11, 'childish gambino': 10, 'trinidad james': 8, 'young dro': 8, 'flo rida': 7, '2 chainz': 6, 'j. dash': 6, 'schoolboy q': 6, 'que.': 5, 'chief keef': 4, 'big sean': 3, 'a$ap ferg': 3, 'young thug': 3, 'migos': 2, 'wiz khalifa': 2, 'kanye west, jay-z, big sean': 1, 'ludacris': 1, 'we are toonz': 1}\n",
      "rappers_billboard_apparition_2014_2015.txt\n",
      "{'rae sremmurd': 48, 'nicki minaj': 45, 'drake': 43, 'bobby shmurda': 35, 'becky g': 30, 'migos': 30, 'j. cole': 27, 'wiz khalifa': 22, 'iggy azalea': 21, 'childish gambino': 20, 'fergie': 19, 'young thug': 18, 'dej loaf': 18, 'schoolboy q': 17, 'kendrick lamar': 16, 'o.t. genasis': 14, 'ca$h out': 12, 'eminem': 9, 'que.': 6, 'fetty wap': 6, 'we are toonz': 5, 'yo gotti': 3, 'missy \"misdemeanor\" elliott': 2, '50 cent': 1, 'meek mill': 1, 'yelawolf': 1, 'machine gun kelly': 1, 'k camp': 1, 'j balvin': 1}\n",
      "rappers_billboard_apparition_2015_2016.txt\n",
      "{'drake': 147, 'fetty wap': 87, 'silento': 41, 'future': 38, 'ilovememphis': 30, 'kendrick lamar': 27, 'rae sremmurd': 26, 'rich homie quan': 24, 'travis scott': 24, 't-wayne': 23, 'post malone': 23, 'j. cole': 20, 'k camp': 19, 'nicki minaj': 17, 'kevin gates': 17, 'young thug': 16, 'g-eazy x bebe rexha': 16, 'dlow': 15, '2 chainz': 9, 'o.t. genasis': 7, 'lunchmoney lewis': 6, 'chedda da connect': 6, 'n.w.a': 5, 'meek mill': 3, 'kalin and myles': 3, 'eazy-e': 3, 'dj luke nasty': 3, 'dej loaf': 2, 'eminem': 2, 'big sean': 1, 'mac miller': 1, 'dmx': 1}\n",
      "rappers_billboard_apparition_2016_2017.txt\n",
      "{'drake': 95, 'desiigner': 54, 'lil uzi vert': 43, 'kanye west': 42, 'kevin gates': 32, 'j. cole': 32, 'future': 27, 'fetty wap': 23, 'big sean': 23, 'kent jones': 22, 'young m.a': 22, 'amine': 22, 'madeintyo': 21, 'dj luke nasty': 19, 'g-eazy x bebe rexha': 18, 'machine gun kelly x camila cabello': 16, 'dae dae': 15, 'wale': 14, 'lil yachty': 14, 'rae sremmurd': 12, 'pnb rock': 12, 'young thug': 11, 'young greatness': 10, 'travis scott': 9, 'migos': 9, 'kendrick lamar': 8, '2 chainz': 7, 'iggy azalea': 6, 'dlow': 5, 'russ': 4, 'fergie': 3, 'a boogie wit da hoodie': 3, 'dmx': 2, 'kanye west, gucci mane, big sean, 2 chainz, travi$ scott, yo gotti, quavo, desiigner': 2, '21 savage': 2, 'xxxtentacion': 2, 'ilovememphis': 1, 'plies': 1, 'post malone': 1, 'meek mill': 1, 'a tribe called quest': 1, 'nicki minaj x mike will made-it': 1, '2 chainz x gucci mane x quavo': 1, 'sage the gemini': 1, 'kodak black': 1}\n",
      "rappers_billboard_apparition_2017_2018.txt\n",
      "{'kendrick lamar': 62, 'kodak black': 34, 'lil uzi vert': 34, 'migos': 33, 'future': 33, 'xxxtentacion': 32, 'post malone': 29, 'travis scott': 28, 'drake': 27, 'cardi b': 26, '21 savage': 25, 'lil pump': 23, 'big sean': 20, 'playboi carti': 19, 'rae sremmurd': 17, '6ix9ine': 17, 'nf': 16, 'tee grizzley': 15, 'tay-k': 15, 'machine gun kelly x camila cabello': 9, 'j. cole': 8, 'ybn nahmir': 8, 'pnb rock': 5, 'jay-z': 5, 'youngboy never broke again': 5, '2 chainz x gucci mane x quavo': 3, 'meek mill': 3, '6lack': 2, 'logic': 2, 'bhad bhabie': 2, 'lil xan': 2, 'dj luke nasty': 1, 'tyler, the creator': 1, 'a boogie wit da hoodie': 1}\n",
      "rappers_billboard_apparition_2018_2019.txt\n",
      "{'drake': 124, 'post malone': 62, 'juice wrld': 61, 'xxxtentacion': 59, 'travis scott': 50, 'cardi b': 40, 'j. cole': 25, 'sheck wes': 24, 'gucci mane x bruno mars x kodak black': 23, 'lil wayne': 22, 'nicki minaj': 19, 'flipp dinero': 19, 'rich the kid': 18, 'eminem': 17, 'lil baby': 15, 'nf': 14, '21 savage': 14, 'migos': 13, 'youngboy never broke again': 13, 'childish gambino': 12, 'the carters': 11, '6ix9ine': 10, 'kodak black': 10, 'a boogie wit da hoodie': 10, 'famous dex': 9, 'kanye west': 9, 'lil pump': 8, 'calboy': 8, 'logic': 5, 'future': 5, 'blueface': 5, 'yella beezy': 4, 'quavo': 4, \"derez de'shon\": 3, 'kids see ghosts': 3, 'machine gun kelly': 3, 'ynw melly': 3, 'trippie redd': 2, 'mac miller': 2, 'lil uzi vert': 2, 'offset': 2, 'chance the rapper': 1, 'becky g + natti natasha': 1, 'takeoff': 1, 'meek mill': 1, 'gunna': 1}\n",
      "rappers_billboard_apparition_2019_2020.txt\n",
      "{'dababy': 66, 'lil baby': 38, 'lizzo': 32, 'post malone': 29, 'nle choppa': 29, 'lil nas x': 28, 'travis scott': 27, 'lil tecca': 26, 'juice wrld': 23, 'yk osiris': 23, 'city girls': 22, 'j. cole': 21, 'cardi b': 21, 'saweetie': 20, 'blackbear': 20, '21 savage': 18, 'a boogie wit da hoodie': 18, 'lil uzi vert': 18, 'nf': 18, 'blueface': 17, 'arizona zervas': 17, 'calboy': 16, 'ynw melly': 15, 'rod wave': 15, 'trevor daniel': 15, 'youngboy never broke again': 14, 'roddy ricch': 12, 'megan thee stallion': 7, 'don toliver': 7, 'kanye west': 6, 'drake': 4, 'mac miller': 4, 'gucci mane x bruno mars x kodak black': 3, 'lil tjay': 3, 'brockhampton': 3, 'lil mosey': 3, 'flipp dinero': 2, 'nicki minaj': 2, 'eminem': 2, 'pop smoke': 2, 'offset': 1, 'lil skies': 1, 'schoolboy q': 1, 'tyler, the creator': 1, 'big sean': 1, 'young thug': 1, 'a$ap rocky': 1, 'lil mosey x gunna': 1, 'trippie redd': 1, 'lil wayne': 1}\n",
      "rappers_billboard_apparition_2020_2021.txt\n",
      "{'lil baby': 78, 'megan thee stallion': 56, 'pop smoke': 49, 'juice wrld': 36, 'lil uzi vert': 33, 'moneybagg yo': 27, 'drake': 24, 'lil mosey': 23, 'roddy ricch': 19, 'staysolidrocky': 18, 'jack harlow': 18, 'dababy': 16, 'brs kash': 16, 'saweetie': 15, 'youngboy never broke again': 14, 'cj': 14, 'rod wave': 13, 'polo g': 13, 'trevor daniel': 12, 'lil nas x': 12, 'the kid laroi': 11, 'arizona zervas': 10, 'blackbear': 8, '6ix9ine': 8, 'kid cudi': 8, 'ddg': 8, 'lil durk': 7, 'king von': 7, 'erica banks': 7, 'don toliver': 6, 'travis scott': 5, 'popp hunna': 5, 'j. cole': 4, 'cardi b': 3, 'tory lanez': 2, 'playboi carti': 2, 'juice wrld x halsey': 2, 'masked wolf': 2, 'future': 1, 'gunna': 1, 'meek mill': 1, 'nle choppa': 1, 'a boogie wit da hoodie': 1, 'trippie redd': 1, 'juice wrld x benny blanco': 1, 'eminem': 1, 'nf': 1}\n",
      "rappers_billboard_apparition_2021_2022.txt\n",
      "{'moneybagg yo': 68, 'rod wave': 46, 'kanye west': 38, 'drake': 35, 'polo g': 33, 'megan thee stallion': 28, 'youngboy never broke again': 26, 'masked wolf': 25, 'roddy ricch': 24, 'cardi b': 23, 'juice wrld': 22, 'dababy': 20, 'doja cat': 19, 'latto': 17, 'migos': 16, 'kodak black': 16, 'sleepy hallow': 15, 'lil baby': 12, 'j. cole': 12, 'pop smoke': 10, 'morray': 10, 'gunna': 9, 'cj': 7, 'lil durk': 7, 'post malone': 7, 'erica banks': 5, 'travis scott': 5, 'nicki minaj x lil baby': 5, 'brs kash': 4, 'meek mill': 4, 'jack harlow': 3, 'dmx': 3, 'city girls': 3, 'playboi carti': 3, 'tyler, the creator': 2, 'mo3 x og bobby billions': 2, 'loza alexander': 2, 'key glock': 2, 'future': 2, 'eminem': 2, 'nf': 1, 'ddg': 1, 'kevin gates': 1, 'lil tecca': 1, 'ksi x lil wayne': 1, 'tom macdonald': 1, 'dababy x lil wayne': 1, 'young thug with juice wrld': 1, 'lil uzi vert': 1, 'yung miami': 1, 'a boogie wit da hoodie': 1, 'nle choppa': 1, 'xxxtentacion': 1, 'yeat': 1, '50 cent': 1}\n"
     ]
    }
   ],
   "source": [
    "import os\n",
    "import re\n",
    "for filename in os.listdir(\"./Result\"):\n",
    "    print(filename)\n",
    "    import_dir = \"./Result\"\n",
    "    #Import each files\n",
    "    with open(os.path.join(import_dir, filename), 'r') as file:\n",
    "        # Create an empty dictionary\n",
    "        rappers = {}\n",
    "        \n",
    "        # Iterate over each line in the file\n",
    "        for line in file:\n",
    "            # Split the line using the separator \"-\"\n",
    "            result = line.rsplit(\"-\", 1)\n",
    "            # Add the key-value pair to the dictionary\n",
    "            rappers[result[0].replace(\"(\", \"\").replace(\")\", \"\").lower()] = int(result[1].strip())\n",
    "     \n",
    "    rappers_c = rappers.copy()\n",
    "    new_rappers = {}\n",
    "\n",
    "    collab_pattern = re.compile(r'&|featuring|feat\\.')\n",
    "    for key in rappers_c.keys():\n",
    "        if not('&' in key or 'featuring' in key or 'feat.' in key):\n",
    "            new_rappers[key] = rappers_c[key]\n",
    "            \n",
    "    print(new_rappers)\n",
    "    dirname = \"Result_filtered\"\n",
    "    if not os.path.exists(dirname):\n",
    "        os.makedirs(dirname)\n",
    "    f = open(os.path.join(dirname, filename.split(\".\")[0]+\"_filtered.txt\"), \"w\", encoding=\"utf-8\")\n",
    "    # Write the key-value pairs to the file\n",
    "    for rapper, value in new_rappers.items() :\n",
    "        f.write(f\"{rapper}-{value}\\n\")"
   ]
  }
 ],
 "metadata": {
  "kernelspec": {
   "display_name": "Python 3",
   "language": "python",
   "name": "python3"
  },
  "language_info": {
   "codemirror_mode": {
    "name": "ipython",
    "version": 3
   },
   "file_extension": ".py",
   "mimetype": "text/x-python",
   "name": "python",
   "nbconvert_exporter": "python",
   "pygments_lexer": "ipython3",
   "version": "3.9.10 (tags/v3.9.10:f2f3f53, Jan 17 2022, 15:14:21) [MSC v.1929 64 bit (AMD64)]"
  },
  "orig_nbformat": 4,
  "vscode": {
   "interpreter": {
    "hash": "bf44f98134a8ff33318a2feea0b608dfe894878c6e8c56a21a7ecf04ac0cedc0"
   }
  }
 },
 "nbformat": 4,
 "nbformat_minor": 2
}
